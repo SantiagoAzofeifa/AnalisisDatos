{
  "nbformat": 4,
  "nbformat_minor": 0,
  "metadata": {
    "colab": {
      "provenance": [],
      "authorship_tag": "ABX9TyOMtg4zFup72d4POV7M0XTf",
      "include_colab_link": true
    },
    "kernelspec": {
      "name": "python3",
      "display_name": "Python 3"
    },
    "language_info": {
      "name": "python"
    }
  },
  "cells": [
    {
      "cell_type": "markdown",
      "metadata": {
        "id": "view-in-github",
        "colab_type": "text"
      },
      "source": [
        "<a href=\"https://colab.research.google.com/github/SantiagoAzofeifa/AnalisisDatos/blob/main/Laboratorio2.ipynb\" target=\"_parent\"><img src=\"https://colab.research.google.com/assets/colab-badge.svg\" alt=\"Open In Colab\"/></a>"
      ]
    },
    {
      "cell_type": "code",
      "execution_count": null,
      "metadata": {
        "colab": {
          "base_uri": "https://localhost:8080/"
        },
        "id": "hpJ2eJObskqc",
        "outputId": "84414d11-537b-4ef5-bae6-9d091f3ee975"
      },
      "outputs": [
        {
          "output_type": "stream",
          "name": "stdout",
          "text": [
            "           TOWN      LON      LAT  MEDV     CRIM    ZN  INDUS  CHAS    NOX  \\\n",
            "0        Nahant -70.9550  42.2550  24.0  0.00632  18.0   2.31     0  0.538   \n",
            "1    Swampscott -70.9500  42.2875  21.6  0.02731   0.0   7.07     0  0.469   \n",
            "2    Swampscott -70.9360  42.2830  34.7  0.02729   0.0   7.07     0  0.469   \n",
            "3    Marblehead -70.9280  42.2930  33.4  0.03237   0.0   2.18     0  0.458   \n",
            "4    Marblehead -70.9220  42.2980  36.2  0.06905   0.0   2.18     0  0.458   \n",
            "..          ...      ...      ...   ...      ...   ...    ...   ...    ...   \n",
            "501    Winthrop -70.9860  42.2312  22.4  0.06263   0.0  11.93     0  0.573   \n",
            "502    Winthrop -70.9910  42.2275  20.6  0.04527   0.0  11.93     0  0.573   \n",
            "503    Winthrop -70.9948  42.2260  23.9  0.06076   0.0  11.93     0  0.573   \n",
            "504    Winthrop -70.9875  42.2240  22.0  0.10959   0.0  11.93     0  0.573   \n",
            "505    Winthrop -70.9825  42.2210  19.0  0.04741   0.0  11.93     0  0.573   \n",
            "\n",
            "        RM   AGE     DIS  RAD  TAX  PTRATIO       B  LSTAT  \n",
            "0    6.575  65.2  4.0900    1  296     15.3  396.90   4.98  \n",
            "1    6.421  78.9  4.9671    2  242     17.8  396.90   9.14  \n",
            "2    7.185  61.1  4.9671    2  242     17.8  392.83   4.03  \n",
            "3    6.998  45.8  6.0622    3  222     18.7  394.63   2.94  \n",
            "4    7.147  54.2  6.0622    3  222     18.7  396.90   5.33  \n",
            "..     ...   ...     ...  ...  ...      ...     ...    ...  \n",
            "501  6.593  69.1  2.4786    1  273     21.0  391.99   9.67  \n",
            "502  6.120  76.7  2.2875    1  273     21.0  396.90   9.08  \n",
            "503  6.976  91.0  2.1675    1  273     21.0  396.90   5.64  \n",
            "504  6.794  89.3  2.3889    1  273     21.0  393.45   6.48  \n",
            "505  6.030  80.8  2.5050    1  273     21.0  396.90   7.88  \n",
            "\n",
            "[506 rows x 17 columns]\n",
            "0      65.2\n",
            "1      78.9\n",
            "2      61.1\n",
            "3      45.8\n",
            "4      54.2\n",
            "       ... \n",
            "501    69.1\n",
            "502    76.7\n",
            "503    91.0\n",
            "504    89.3\n",
            "505    80.8\n",
            "Name: AGE, Length: 506, dtype: float64\n",
            "       TOWN     LON      LAT  MEDV     CRIM    ZN  INDUS  CHAS    NOX     RM  \\\n",
            "0    Nahant -70.955  42.2550  24.0  0.00632  18.0   2.31     0  0.538  6.575   \n",
            "119  Malden -71.019  42.2605  19.3  0.14476   0.0  10.01     0  0.547  5.731   \n",
            "\n",
            "      AGE     DIS  RAD  TAX  PTRATIO      B  LSTAT  \n",
            "0    65.2  4.0900    1  296     15.3  396.9   4.98  \n",
            "119  65.2  2.7592    6  432     17.8  391.5  13.61  \n"
          ]
        }
      ],
      "source": [
        "import pandas as pd\n",
        "df=pd.read_csv('/content/casasboston.csv')\n",
        "data=pd.DataFrame(df)\n",
        "print(data)\n",
        "print(data.AGE)\n",
        "dataresultado = data.loc[(data['AGE']==65.2)]\n",
        "print(dataresultado)"
      ]
    },
    {
      "cell_type": "code",
      "source": [
        "dataresultado = data.loc[(data['TOWN']==\"Winthrop\")]\n",
        "print(dataresultado)\n",
        "\n",
        "#1 Seleccionar TOWN\n",
        "#2 TOWN: CRIM aquellos que son superiores a 0.50\n",
        "#3 Sacar el promedio de la edad y usar la funcion promedio\n",
        "#4 Imprimir un indice y una edad, retorna los puntos correspondientes\n",
        "#5 Ordenamiento por CRIM //sort para el ordenamiento"
      ],
      "metadata": {
        "colab": {
          "base_uri": "https://localhost:8080/"
        },
        "id": "PK9_PZveudWu",
        "outputId": "0121dc2c-b3c8-4751-a7b2-c64eadad4248"
      },
      "execution_count": null,
      "outputs": [
        {
          "output_type": "stream",
          "name": "stdout",
          "text": [
            "         TOWN      LON      LAT  MEDV     CRIM   ZN  INDUS  CHAS    NOX  \\\n",
            "501  Winthrop -70.9860  42.2312  22.4  0.06263  0.0  11.93     0  0.573   \n",
            "502  Winthrop -70.9910  42.2275  20.6  0.04527  0.0  11.93     0  0.573   \n",
            "503  Winthrop -70.9948  42.2260  23.9  0.06076  0.0  11.93     0  0.573   \n",
            "504  Winthrop -70.9875  42.2240  22.0  0.10959  0.0  11.93     0  0.573   \n",
            "505  Winthrop -70.9825  42.2210  19.0  0.04741  0.0  11.93     0  0.573   \n",
            "\n",
            "        RM   AGE     DIS  RAD  TAX  PTRATIO       B  LSTAT  \n",
            "501  6.593  69.1  2.4786    1  273     21.0  391.99   9.67  \n",
            "502  6.120  76.7  2.2875    1  273     21.0  396.90   9.08  \n",
            "503  6.976  91.0  2.1675    1  273     21.0  396.90   5.64  \n",
            "504  6.794  89.3  2.3889    1  273     21.0  393.45   6.48  \n",
            "505  6.030  80.8  2.5050    1  273     21.0  396.90   7.88  \n"
          ]
        }
      ]
    },
    {
      "cell_type": "code",
      "source": [
        "dataresultado = data.loc[(data['TOWN']==\"Marblehead\")]\n",
        "if\n",
        "print(dataresultado)"
      ],
      "metadata": {
        "id": "1BFeyMvE4kS_",
        "colab": {
          "base_uri": "https://localhost:8080/"
        },
        "outputId": "5807e596-7777-4d33-b7f0-d4c78c8a1214"
      },
      "execution_count": null,
      "outputs": [
        {
          "output_type": "stream",
          "name": "stdout",
          "text": [
            "         TOWN      LON     LAT  MEDV     CRIM   ZN  INDUS  CHAS    NOX     RM  \\\n",
            "3  Marblehead -70.9280  42.293  33.4  0.03237  0.0   2.18     0  0.458  6.998   \n",
            "4  Marblehead -70.9220  42.298  36.2  0.06905  0.0   2.18     0  0.458  7.147   \n",
            "5  Marblehead -70.9165  42.304  28.7  0.02985  0.0   2.18     0  0.458  6.430   \n",
            "\n",
            "    AGE     DIS  RAD  TAX  PTRATIO       B  LSTAT  \n",
            "3  45.8  6.0622    3  222     18.7  394.63   2.94  \n",
            "4  54.2  6.0622    3  222     18.7  396.90   5.33  \n",
            "5  58.7  6.0622    3  222     18.7  394.12   5.21  \n"
          ]
        }
      ]
    },
    {
      "cell_type": "code",
      "source": [
        "#LABORATORIO #2\n"
      ],
      "metadata": {
        "id": "9-1dVPs172qq"
      },
      "execution_count": null,
      "outputs": []
    }
  ]
}